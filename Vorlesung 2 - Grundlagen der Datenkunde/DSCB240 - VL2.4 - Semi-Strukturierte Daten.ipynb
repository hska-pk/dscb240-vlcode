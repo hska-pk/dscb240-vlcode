{
 "cells": [
  {
   "cell_type": "markdown",
   "metadata": {},
   "source": [
    "# VL2.4 - Semi-Strukturierte Daten\n",
    "## (1) XML\n",
    "### Datenstruktur generieren und XML-Datei schreiben"
   ]
  },
  {
   "cell_type": "code",
   "execution_count": 26,
   "metadata": {
    "scrolled": true
   },
   "outputs": [],
   "source": [
    "import xml.etree.ElementTree as ET\n",
    "\n",
    "name_list = [\"Müller\", \"Meier\", \"Schulz\", \"Peters\"]\n",
    "\n",
    "# Aufbau des XML-Baumes\n",
    "\n",
    "# Wurzelelement \"names\"\n",
    "root = ET.Element(\"names\")\n",
    "\n",
    "# Einfügen einzelnen Namen unter den Wurzelknoten\n",
    "for name in name_list:\n",
    "    subelement = ET.SubElement(root, \"name\")  # element anlegen\n",
    "    subelement.text = name\n",
    "\n",
    "# Konvertierung in einen Baum und Speicherung als XML-Datei\n",
    "tree = ET.ElementTree(root)\n",
    "tree.write(\"names.xml\", encoding='utf-8', xml_declaration=True)"
   ]
  },
  {
   "cell_type": "markdown",
   "metadata": {},
   "source": [
    "### XML-Datei einlesen und parsen"
   ]
  },
  {
   "cell_type": "code",
   "execution_count": 38,
   "metadata": {},
   "outputs": [
    {
     "name": "stdout",
     "output_type": "stream",
     "text": [
      "country {'name': 'Liechtenstein'}\n",
      "country {'name': 'Singapore', 'lat': '1.290270', 'long': '103.851959'}\n",
      "country {'name': 'Panama'}\n"
     ]
    }
   ],
   "source": [
    "import xml.etree.ElementTree as ET\n",
    "tree = ET.parse('country_data.xml')\n",
    "root = tree.getroot()\n",
    "\n",
    "# iteriere durch Elemente direkt unter root\n",
    "for child in root:\n",
    "    # gib die Tab-Bezeichnung und alle Attribute des Subelements aus\n",
    "    print(child.tag, child.attrib)"
   ]
  },
  {
   "cell_type": "code",
   "execution_count": 42,
   "metadata": {},
   "outputs": [
    {
     "data": {
      "text/plain": [
       "'year'"
      ]
     },
     "execution_count": 42,
     "metadata": {},
     "output_type": "execute_result"
    }
   ],
   "source": [
    "# Zugriff auf Subelemente mittels Index (analog zu Listenzugriff)\n",
    "root[0][1].tag"
   ]
  },
  {
   "cell_type": "markdown",
   "metadata": {},
   "source": [
    "Zugriff über Methoden (vgl. https://docs.python.org/3/library/xml.etree.elementtree.html#xml.etree.ElementTree.Element)"
   ]
  },
  {
   "cell_type": "code",
   "execution_count": 49,
   "metadata": {},
   "outputs": [
    {
     "name": "stdout",
     "output_type": "stream",
     "text": [
      "Liechtenstein 1\n",
      "Singapore 4\n",
      "Panama 68\n"
     ]
    }
   ],
   "source": [
    "# Empfohlener Zugriff über Methoden\n",
    "for country in root.findall('country'):\n",
    "    rank = country.find('rank').text\n",
    "    name = country.get('name')\n",
    "    print(name, rank)"
   ]
  },
  {
   "cell_type": "code",
   "execution_count": 52,
   "metadata": {},
   "outputs": [
    {
     "name": "stdout",
     "output_type": "stream",
     "text": [
      "<?xml version=\"1.0\" ?>\n",
      "<data>\n",
      "\t\n",
      "    \n",
      "\t<country name=\"Liechtenstein\">\n",
      "\t\t\n",
      "        \n",
      "\t\t<rank>1</rank>\n",
      "\t\t\n",
      "        \n",
      "\t\t<year>2008</year>\n",
      "\t\t\n",
      "        \n",
      "\t\t<gdppc>141100</gdppc>\n",
      "\t\t\n",
      "        \n",
      "\t\t<neighbor name=\"Austria\" direction=\"E\"/>\n",
      "\t\t\n",
      "        \n",
      "\t\t<neighbor name=\"Switzerland\" direction=\"W\"/>\n",
      "\t\t\n",
      "    \n",
      "\t</country>\n",
      "\t\n",
      "    \n",
      "\t<country name=\"Singapore\" lat=\"1.290270\" long=\"103.851959\">\n",
      "\t\t\n",
      "        \n",
      "\t\t<rank>4</rank>\n",
      "\t\t\n",
      "        \n",
      "\t\t<year>2011</year>\n",
      "\t\t\n",
      "        \n",
      "\t\t<gdppc>59900</gdppc>\n",
      "\t\t\n",
      "        \n",
      "\t\t<neighbor name=\"Malaysia\" direction=\"N\"/>\n",
      "\t\t\n",
      "    \n",
      "\t</country>\n",
      "\t\n",
      "    \n",
      "\t<country name=\"Panama\">\n",
      "\t\t\n",
      "        \n",
      "\t\t<rank>68</rank>\n",
      "\t\t\n",
      "        \n",
      "\t\t<year>2011</year>\n",
      "\t\t\n",
      "        \n",
      "\t\t<gdppc>13600</gdppc>\n",
      "\t\t\n",
      "        \n",
      "\t\t<neighbor name=\"Costa Rica\" direction=\"W\"/>\n",
      "\t\t\n",
      "        \n",
      "\t\t<neighbor name=\"Colombia\" direction=\"E\"/>\n",
      "\t\t\n",
      "    \n",
      "\t</country>\n",
      "\t\n",
      "\n",
      "</data>\n",
      "\n"
     ]
    }
   ],
   "source": [
    "import xml.dom.minidom\n",
    "dom = xml.dom.minidom.parse(\"country_data.xml\")\n",
    "print(dom.toprettyxml())  # \"prettyprint\" whole tree"
   ]
  },
  {
   "cell_type": "markdown",
   "metadata": {},
   "source": [
    "## (2) JSON"
   ]
  },
  {
   "cell_type": "code",
   "execution_count": 78,
   "metadata": {},
   "outputs": [
    {
     "name": "stdout",
     "output_type": "stream",
     "text": [
      "<class 'dict'>\n",
      "{'data': {'country': [{'name': 'Liechtenstein', 'rank': 1, 'year': 2008, 'gdppc': 141100, 'neighbor': [{'name': 'Austria', 'direction': 'E'}, {'name': 'Switzerland', 'direction': 'W'}]}, {'name': 'Singapore', 'lat': 1.29027, 'long': 103.851959, 'rank': 4, 'year': 2011, 'gdppc': 59900, 'neighbor': {'name': 'Malaysia', 'direction': 'N'}}, {'name': 'Panama', 'rank': 68, 'year': 2011, 'gdppc': 13600, 'neighbor': [{'name': 'Costa Rica', 'direction': 'W'}, {'name': 'Colombia', 'direction': 'E'}]}]}}\n"
     ]
    }
   ],
   "source": [
    "import json\n",
    "\n",
    "with open('country_data.json') as f:\n",
    "    data = json.load(f)\n",
    "\n",
    "print(type(data))\n",
    "print(data)"
   ]
  },
  {
   "cell_type": "code",
   "execution_count": 63,
   "metadata": {},
   "outputs": [],
   "source": [
    "import json\n",
    "\n",
    "people = {'people' : [{'name':'Scott', 'age':31}, {'name':'Anne', 'age':29, 'married':False}]}\n",
    "with open('people.json', 'w') as f:\n",
    "    json.dump(people, f, indent=4) # indent sorgt für ein \"pretty-print\""
   ]
  },
  {
   "cell_type": "markdown",
   "metadata": {},
   "source": [
    "## (3) YAML"
   ]
  },
  {
   "cell_type": "code",
   "execution_count": 86,
   "metadata": {},
   "outputs": [
    {
     "name": "stdout",
     "output_type": "stream",
     "text": [
      "<class 'dict'>\n"
     ]
    },
    {
     "data": {
      "text/plain": [
       "{'data': {'country': [{'gdppc': 141100,\n",
       "    'name': 'Liechtenstein',\n",
       "    'neighbor': [{'direction': 'E', 'name': 'Austria'},\n",
       "     {'direction': 'W', 'name': 'Switzerland'}],\n",
       "    'rank': 1,\n",
       "    'year': 2008},\n",
       "   {'gdppc': 59900,\n",
       "    'lat': 1.29027,\n",
       "    'long': 103.851959,\n",
       "    'name': 'Singapore',\n",
       "    'neighbor': {'direction': 'N', 'name': 'Malaysia'},\n",
       "    'rank': 4,\n",
       "    'year': 2011},\n",
       "   {'gdppc': 13600,\n",
       "    'name': 'Panama',\n",
       "    'neighbor': [{'direction': 'W', 'name': 'Costa Rica'},\n",
       "     {'direction': 'E', 'name': 'Colombia'}],\n",
       "    'rank': 68,\n",
       "    'year': 2011}]}}"
      ]
     },
     "execution_count": 86,
     "metadata": {},
     "output_type": "execute_result"
    }
   ],
   "source": [
    "import yaml\n",
    "\n",
    "with open(\"country_data.yaml\") as f:\n",
    "    yaml_data = yaml.safe_load(f)\n",
    "    \n",
    "\n",
    "print(type(yaml_data))\n",
    "yaml_data"
   ]
  },
  {
   "cell_type": "code",
   "execution_count": 87,
   "metadata": {},
   "outputs": [],
   "source": [
    "people = {'people' : [{'name':'Scott', 'age':31}, {'name':'Anne', 'age':29, 'married':False}]}\n",
    "with open('people.yaml', 'w') as f:\n",
    "    yaml.dump(people, f)"
   ]
  }
 ],
 "metadata": {
  "kernelspec": {
   "display_name": "Python 3",
   "language": "python",
   "name": "python3"
  },
  "language_info": {
   "codemirror_mode": {
    "name": "ipython",
    "version": 3
   },
   "file_extension": ".py",
   "mimetype": "text/x-python",
   "name": "python",
   "nbconvert_exporter": "python",
   "pygments_lexer": "ipython3",
   "version": "3.8.5"
  }
 },
 "nbformat": 4,
 "nbformat_minor": 4
}
