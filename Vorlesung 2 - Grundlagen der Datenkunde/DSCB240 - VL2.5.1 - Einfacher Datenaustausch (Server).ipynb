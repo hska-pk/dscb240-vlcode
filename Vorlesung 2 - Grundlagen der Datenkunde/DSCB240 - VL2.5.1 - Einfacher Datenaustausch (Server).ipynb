{
 "cells": [
  {
   "cell_type": "markdown",
   "metadata": {},
   "source": [
    "# VL2.5.1 - Einfacher Datenaustausch (Server)"
   ]
  },
  {
   "cell_type": "code",
   "execution_count": 10,
   "metadata": {
    "scrolled": true
   },
   "outputs": [
    {
     "name": "stdout",
     "output_type": "stream",
     "text": [
      "Connected by ('127.0.0.1', 58937)\n",
      "Received b'Hello, Karlsruhe'\n",
      "Returned b'HELLO, KARLSRUHE'\n"
     ]
    }
   ],
   "source": [
    "import socket\n",
    "\n",
    "host = '127.0.0.1'  # Standard loopback interface address (localhost)\n",
    "port = 65432        # Port to listen on (non-privileged ports are > 1023)\n",
    "\n",
    "with socket.socket(socket.AF_INET, socket.SOCK_STREAM) as s:  # create TCP socket s (SOCK_STREAM)\n",
    "    s.bind((host, port)) # bind localhost and port \n",
    "    s.listen()  # start listening \n",
    "    conn, addr = s.accept()  # when connected, save the connection and client address (IP + port)\n",
    "    with conn:\n",
    "        print(f'Connected by {addr}')\n",
    "        data = conn.recv(1024)  # receive at most 1024 bytes of data (blocking)\n",
    "        print(f'Received {data}')\n",
    "        conn.sendall(data.upper())\n",
    "        print(f'Returned {data.upper()}')"
   ]
  }
 ],
 "metadata": {
  "kernelspec": {
   "display_name": "Python 3",
   "language": "python",
   "name": "python3"
  },
  "language_info": {
   "codemirror_mode": {
    "name": "ipython",
    "version": 3
   },
   "file_extension": ".py",
   "mimetype": "text/x-python",
   "name": "python",
   "nbconvert_exporter": "python",
   "pygments_lexer": "ipython3",
   "version": "3.8.5"
  }
 },
 "nbformat": 4,
 "nbformat_minor": 4
}
