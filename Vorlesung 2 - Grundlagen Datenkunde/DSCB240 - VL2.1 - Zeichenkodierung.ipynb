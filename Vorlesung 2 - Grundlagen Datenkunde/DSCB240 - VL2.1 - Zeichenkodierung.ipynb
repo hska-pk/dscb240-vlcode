{
 "cells": [
  {
   "cell_type": "markdown",
   "metadata": {},
   "source": [
    "# VL2.1 - Zeichenkodierung mit Python\n",
    "## Beispielstring mit Sonderzeichen anlegen und kodieren"
   ]
  },
  {
   "cell_type": "code",
   "execution_count": 72,
   "metadata": {
    "scrolled": true
   },
   "outputs": [
    {
     "name": "stdout",
     "output_type": "stream",
     "text": [
      "'ascii' codec can't encode characters in position 4-6: ordinal not in range(128)\n",
      "b'abc \\xf6\\xe4\\xfc'\n",
      "b'abc \\xf6\\xe4\\xfc'\n",
      "b'abc \\xc3\\xb6\\xc3\\xa4\\xc3\\xbc'\n",
      "b'\\xff\\xfe\\x00\\x00a\\x00\\x00\\x00b\\x00\\x00\\x00c\\x00\\x00\\x00 \\x00\\x00\\x00\\xf6\\x00\\x00\\x00\\xe4\\x00\\x00\\x00\\xfc\\x00\\x00\\x00'\n"
     ]
    }
   ],
   "source": [
    "bsp = \"abc öäü\"\n",
    "\n",
    "# da ascii die Sonderzeichen nicht abbilden kann wirft die Methode eine Exception\n",
    "try:\n",
    "    print(bsp.encode('ascii'))\n",
    "except UnicodeEncodeError as err:\n",
    "    print(err)\n",
    "\n",
    "print(bsp.encode('ansi'))\n",
    "\n",
    "print(bsp.encode('iso-8859-1'))\n",
    "\n",
    "print(bsp.encode('utf-8'))\n",
    "\n",
    "print(bsp.encode('utf-32'))"
   ]
  },
  {
   "cell_type": "markdown",
   "metadata": {},
   "source": [
    "## Schreiben des Strings in eine Datei ohne explizite Kodierung"
   ]
  },
  {
   "cell_type": "code",
   "execution_count": 67,
   "metadata": {},
   "outputs": [],
   "source": [
    "f = open(\"bsp.txt\", \"w\")\n",
    "f.write(bsp)\n",
    "f.close()"
   ]
  },
  {
   "cell_type": "markdown",
   "metadata": {},
   "source": [
    "## Schreiben des Strings in eine Datei mit expliziter Kodierung"
   ]
  },
  {
   "cell_type": "code",
   "execution_count": 66,
   "metadata": {},
   "outputs": [],
   "source": [
    "f = open(\"bsp_kodiert.txt\", \"wb\")\n",
    "f.write(bsp.encode('utf-16'))\n",
    "f.close()"
   ]
  }
 ],
 "metadata": {
  "kernelspec": {
   "display_name": "Python 3",
   "language": "python",
   "name": "python3"
  },
  "language_info": {
   "codemirror_mode": {
    "name": "ipython",
    "version": 3
   },
   "file_extension": ".py",
   "mimetype": "text/x-python",
   "name": "python",
   "nbconvert_exporter": "python",
   "pygments_lexer": "ipython3",
   "version": "3.8.5"
  }
 },
 "nbformat": 4,
 "nbformat_minor": 4
}
