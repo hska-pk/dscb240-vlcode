{
 "cells": [
  {
   "cell_type": "markdown",
   "metadata": {},
   "source": [
    "# VL2.2 - Bilddaten\n",
    "## (1) Pixelgrafik \n",
    "### Beispielhafte Bilddatei laden"
   ]
  },
  {
   "cell_type": "code",
   "execution_count": null,
   "metadata": {
    "scrolled": true
   },
   "outputs": [],
   "source": [
    "from PIL import Image\n",
    "img = Image.open(\"bear.jpg\")"
   ]
  },
  {
   "cell_type": "code",
   "execution_count": null,
   "metadata": {},
   "outputs": [],
   "source": [
    "print(f\"Raster: {img.size}\")\n",
    "img"
   ]
  },
  {
   "cell_type": "code",
   "execution_count": null,
   "metadata": {},
   "outputs": [],
   "source": [
    "# loop through all pixels\n",
    "pixels = img.load()\n",
    "\n",
    "for i in range(img.size[0]): \n",
    "    for j in range(img.size[1]):\n",
    "        print(pixels[i, j])  # each pixel is a tuple (in this case RGB values)"
   ]
  },
  {
   "cell_type": "markdown",
   "metadata": {},
   "source": [
    "### Farbmodus konvertieren"
   ]
  },
  {
   "cell_type": "code",
   "execution_count": null,
   "metadata": {},
   "outputs": [],
   "source": [
    "img_grey = img.convert(\"L\")\n",
    "img_grey"
   ]
  },
  {
   "cell_type": "code",
   "execution_count": null,
   "metadata": {},
   "outputs": [],
   "source": [
    "# loop through all pixels\n",
    "pixels = img_grey.load()\n",
    "\n",
    "for i in range(img.size[0]): \n",
    "    for j in range(img.size[1]):\n",
    "        print(pixels[i, j])  # each pixel is a tuple (in this case RGB values)"
   ]
  },
  {
   "cell_type": "markdown",
   "metadata": {},
   "source": [
    "### Pixelgrafik manuell erzeugen und speichern"
   ]
  },
  {
   "cell_type": "code",
   "execution_count": null,
   "metadata": {},
   "outputs": [],
   "source": [
    "img = Image.new('RGB', (100,100)) # create a new image\n",
    "pixels = img.load() # create the pixel map\n",
    "\n",
    "color1 = (200, 200, 0)\n",
    "color2 = (0, 100, 0)\n",
    "\n",
    "\n",
    "for i in range(img.size[0]):    # for every col:\n",
    "    if i <= 50:\n",
    "        current_color = color1\n",
    "    else:\n",
    "        current_color = color2\n",
    "                    \n",
    "    for j in range(img.size[1]):    # for every row\n",
    "        pixels[i,j] = current_color # set the color of the pixel\n",
    "        \n",
    "\n",
    "img.save(\"bars.tif\")\n",
    "img.save(\"bars.jpg\")\n",
    "img"
   ]
  },
  {
   "cell_type": "markdown",
   "metadata": {},
   "source": [
    "## (2) Vektorgrafik"
   ]
  },
  {
   "cell_type": "code",
   "execution_count": 1,
   "metadata": {},
   "outputs": [
    {
     "name": "stderr",
     "output_type": "stream",
     "text": [
      "C:\\Users\\kupe0003\\Anaconda3\\lib\\site-packages\\drawSvg\\raster.py:18: RuntimeWarning: Failed to import CairoSVG. drawSvg will be unable to output PNG or other raster image formats. See https://github.com/cduck/drawSvg#prerequisites for more details.\n",
      "Original OSError: no library called \"cairo\" was found\n",
      "no library called \"libcairo-2\" was found\n",
      "cannot load library 'libcairo.so.2': error 0x7e\n",
      "cannot load library 'libcairo.2.dylib': error 0x7e\n",
      "cannot load library 'libcairo-2.dll': error 0x7e\n",
      "  warnings.warn(msg, RuntimeWarning)\n"
     ]
    }
   ],
   "source": [
    "import drawSvg # warning can be ignored"
   ]
  },
  {
   "cell_type": "code",
   "execution_count": 9,
   "metadata": {},
   "outputs": [],
   "source": [
    "import drawSvg as draw\n",
    "\n",
    "d = draw.Drawing(200, 100, origin='center', displayInline=False)  # main container for all shapes\n",
    "\n",
    "r = draw.Rectangle(-80,0,40,50, fill='red') # draw a rectangle\n",
    "d.append(r)\n",
    "\n",
    "d.append(draw.Circle(-40, -10, 30, fill='yellow', stroke_width=2, stroke='black')) # draw a circle\n",
    "\n",
    "d.append(draw.Text('DSCB240', 8, -10, 35, fill='blue'))  # draw text\n",
    "\n",
    "d.setPixelScale(5)  # set number of pixels per geometry unit\n",
    "d.saveSvg('example.svg')\n"
   ]
  }
 ],
 "metadata": {
  "kernelspec": {
   "display_name": "Python 3",
   "language": "python",
   "name": "python3"
  },
  "language_info": {
   "codemirror_mode": {
    "name": "ipython",
    "version": 3
   },
   "file_extension": ".py",
   "mimetype": "text/x-python",
   "name": "python",
   "nbconvert_exporter": "python",
   "pygments_lexer": "ipython3",
   "version": "3.8.5"
  }
 },
 "nbformat": 4,
 "nbformat_minor": 4
}
