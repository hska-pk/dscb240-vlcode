{
 "cells": [
  {
   "cell_type": "markdown",
   "metadata": {},
   "source": [
    "# VL2.5.2 - Einfacher Datenaustausch (Client)"
   ]
  },
  {
   "cell_type": "code",
   "execution_count": 12,
   "metadata": {
    "scrolled": true
   },
   "outputs": [
    {
     "name": "stdout",
     "output_type": "stream",
     "text": [
      "Sent to the server this string: b'Hello, Karlsruhe'\n",
      "Received server answer: b'HELLO, KARLSRUHE'\n"
     ]
    }
   ],
   "source": [
    "import socket\n",
    "\n",
    "host = '127.0.0.1'  # The server's hostname or IP address\n",
    "port = 65432        # The port used by the server\n",
    "\n",
    "mybytestring = b\"Hello, Karlsruhe\"  # note that this is a bytestring!\n",
    "\n",
    "with socket.socket(socket.AF_INET, socket.SOCK_STREAM) as s:  # open TCP socket\n",
    "    s.connect((host, port))\n",
    "    s.sendall(mybytestring)\n",
    "    data = s.recv(1024)\n",
    "\n",
    "print(f'Sent to the server this string: {mybytestring}')\n",
    "print(f'Received server answer: {data}')"
   ]
  }
 ],
 "metadata": {
  "kernelspec": {
   "display_name": "Python 3",
   "language": "python",
   "name": "python3"
  },
  "language_info": {
   "codemirror_mode": {
    "name": "ipython",
    "version": 3
   },
   "file_extension": ".py",
   "mimetype": "text/x-python",
   "name": "python",
   "nbconvert_exporter": "python",
   "pygments_lexer": "ipython3",
   "version": "3.8.5"
  }
 },
 "nbformat": 4,
 "nbformat_minor": 4
}
